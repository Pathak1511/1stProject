{
  "nbformat": 4,
  "nbformat_minor": 0,
  "metadata": {
    "colab": {
      "provenance": [],
      "toc_visible": true,
      "authorship_tag": "ABX9TyNU0FZfRsIon+GO3hH+DFXf",
      "include_colab_link": true
    },
    "kernelspec": {
      "name": "python3",
      "display_name": "Python 3"
    },
    "language_info": {
      "name": "python"
    }
  },
  "cells": [
    {
      "cell_type": "markdown",
      "metadata": {
        "id": "view-in-github",
        "colab_type": "text"
      },
      "source": [
        "<a href=\"https://colab.research.google.com/github/Pathak1511/1stProject/blob/main/exp-01.ipynb\" target=\"_parent\"><img src=\"https://colab.research.google.com/assets/colab-badge.svg\" alt=\"Open In Colab\"/></a>"
      ]
    },
    {
      "cell_type": "code",
      "source": [
        "x=int(input(\"Enter a number:\"))\n",
        "y=int(input(\"Enter second number:\"))\n",
        "if(x==45):\n",
        "    print(\"Its 45\")\n",
        "else:\n",
        "    print(x+y)"
      ],
      "metadata": {
        "colab": {
          "base_uri": "https://localhost:8080/"
        },
        "id": "X3Vjb5mYn9M1",
        "outputId": "d081107a-af4a-4c8e-d7d6-ea14723b8f4f"
      },
      "execution_count": 1,
      "outputs": [
        {
          "output_type": "stream",
          "name": "stdout",
          "text": [
            "Enter a number:6\n",
            "Enter second number:8\n",
            "14\n"
          ]
        }
      ]
    },
    {
      "cell_type": "code",
      "source": [
        "x=10\n",
        "type(x)\n",
        "p=[10,12,14,16,18]\n",
        "p"
      ],
      "metadata": {
        "colab": {
          "base_uri": "https://localhost:8080/"
        },
        "id": "29T1ZrKFoAEG",
        "outputId": "8002a3e3-b912-4f54-bc90-dcad8ff03481"
      },
      "execution_count": 2,
      "outputs": [
        {
          "output_type": "execute_result",
          "data": {
            "text/plain": [
              "[10, 12, 14, 16, 18]"
            ]
          },
          "metadata": {},
          "execution_count": 2
        }
      ]
    },
    {
      "cell_type": "code",
      "source": [
        "p.insert(2,25)\n",
        "p"
      ],
      "metadata": {
        "colab": {
          "base_uri": "https://localhost:8080/"
        },
        "id": "VuthmE3ZoClB",
        "outputId": "406c4bf2-74a9-41dc-e67b-64edf59e27e7"
      },
      "execution_count": 3,
      "outputs": [
        {
          "output_type": "execute_result",
          "data": {
            "text/plain": [
              "[10, 12, 25, 14, 16, 18]"
            ]
          },
          "metadata": {},
          "execution_count": 3
        }
      ]
    },
    {
      "cell_type": "code",
      "source": [
        "y=[10,2,3,4,5,6,[4,5,6,],7]\n",
        "y\n",
        "\n",
        "d2={12:\"hello\",(1,2,3,4):[4,5,6,7]}\n",
        "d2[12]"
      ],
      "metadata": {
        "colab": {
          "base_uri": "https://localhost:8080/",
          "height": 36
        },
        "id": "gKUnLcZQoD2P",
        "outputId": "374f41e4-ccaa-49df-d289-77a91e9d0008"
      },
      "execution_count": 4,
      "outputs": [
        {
          "output_type": "execute_result",
          "data": {
            "text/plain": [
              "'hello'"
            ],
            "application/vnd.google.colaboratory.intrinsic+json": {
              "type": "string"
            }
          },
          "metadata": {},
          "execution_count": 4
        }
      ]
    },
    {
      "cell_type": "code",
      "source": [
        "x=input(\"enter the username:\")\n",
        "y=input(\"enter the password:\")\n",
        "if(x=='dikshant') and (y=='dikshant'):\n",
        "  print(\"successful\")\n",
        "else:\n",
        "  print(\"Try again\")\n",
        "x=input(\"enter the username:\")\n",
        "if(x=='dikshant'):\n",
        "  y=input(\"enter the password:\")\n",
        "  if(y==\"dikshant\"):\n",
        "    print(\"welcome\")\n",
        "  else:\n",
        "    print(\"Try again\")"
      ],
      "metadata": {
        "colab": {
          "base_uri": "https://localhost:8080/"
        },
        "id": "LBGWP9XnoHbW",
        "outputId": "b0b24cde-3b77-43a4-efb9-9e5ccb1acb71"
      },
      "execution_count": 5,
      "outputs": [
        {
          "output_type": "stream",
          "name": "stdout",
          "text": [
            "enter the username:hritik\n",
            "enter the password:dikshant\n",
            "Try again\n",
            "enter the username:dikshant\n",
            "enter the password:dikshant\n",
            "welcome\n"
          ]
        }
      ]
    },
    {
      "cell_type": "code",
      "source": [
        "for i in range(1,10,2):\n",
        "  print(i)\n",
        "for i in range(10):\n",
        "  print(i)\n",
        "l=['dikshant','mayank','abbas']\n",
        "for i in range(len(l)):\n",
        "  print(i)"
      ],
      "metadata": {
        "colab": {
          "base_uri": "https://localhost:8080/"
        },
        "id": "eqeDgmvhoQ7z",
        "outputId": "6dc4bed2-ef22-4bd4-e827-98e06c777a85"
      },
      "execution_count": 6,
      "outputs": [
        {
          "output_type": "stream",
          "name": "stdout",
          "text": [
            "1\n",
            "3\n",
            "5\n",
            "7\n",
            "9\n",
            "0\n",
            "1\n",
            "2\n",
            "3\n",
            "4\n",
            "5\n",
            "6\n",
            "7\n",
            "8\n",
            "9\n",
            "0\n",
            "1\n",
            "2\n"
          ]
        }
      ]
    },
    {
      "cell_type": "code",
      "source": [
        "s=[]\n",
        "l=['dikshant','mayank','abbas']\n",
        "for i in l:\n",
        "  print(str(len(i)),\":\",i)\n",
        "  s.append(len(i))\n",
        "print(s)"
      ],
      "metadata": {
        "colab": {
          "base_uri": "https://localhost:8080/"
        },
        "id": "piG6GBeVoVRF",
        "outputId": "0c765a09-00de-4a41-d000-272f8bd2cd69"
      },
      "execution_count": 7,
      "outputs": [
        {
          "output_type": "stream",
          "name": "stdout",
          "text": [
            "8 : dikshant\n",
            "6 : mayank\n",
            "5 : abbas\n",
            "[8, 6, 5]\n"
          ]
        }
      ]
    },
    {
      "cell_type": "code",
      "source": [
        "def name():\n",
        "  print('dikshant')\n",
        "name()\n",
        "def name(x):\n",
        "  print(\"dikshant and\",x)\n",
        "name('mayank')\n",
        "name('abbas')"
      ],
      "metadata": {
        "colab": {
          "base_uri": "https://localhost:8080/"
        },
        "id": "CNM0JKkdoZqg",
        "outputId": "58afde09-96b5-486a-9c7b-ead2f693c23e"
      },
      "execution_count": 8,
      "outputs": [
        {
          "output_type": "stream",
          "name": "stdout",
          "text": [
            "dikshant\n",
            "dikshant and mayank\n",
            "dikshant and abbas\n"
          ]
        }
      ]
    },
    {
      "cell_type": "code",
      "source": [
        "import numpy as np \n",
        "x=np.array([10,11,12,13])\n",
        "print(x)"
      ],
      "metadata": {
        "colab": {
          "base_uri": "https://localhost:8080/"
        },
        "id": "NPeKWEalodhE",
        "outputId": "63a642a5-c403-48b0-9f6a-20b26584389a"
      },
      "execution_count": 9,
      "outputs": [
        {
          "output_type": "stream",
          "name": "stdout",
          "text": [
            "[10 11 12 13]\n"
          ]
        }
      ]
    },
    {
      "cell_type": "code",
      "source": [
        "x=np.array([[10,11,12,13],[14,15,16,17],[18,19,20,21]])\n",
        "print(x.ndim)\n",
        "print(x)\n",
        "print(x.sum())\n",
        "#print(x.prod())\n",
        "print(x.max())\n",
        "print(x.min())\n",
        "print(x.argmax())\n",
        "print(x.argmin())"
      ],
      "metadata": {
        "colab": {
          "base_uri": "https://localhost:8080/"
        },
        "id": "UrEQ2VHUohw4",
        "outputId": "a2b1643e-b364-4cc6-f078-304f8404ced7"
      },
      "execution_count": 10,
      "outputs": [
        {
          "output_type": "stream",
          "name": "stdout",
          "text": [
            "2\n",
            "[[10 11 12 13]\n",
            " [14 15 16 17]\n",
            " [18 19 20 21]]\n",
            "186\n",
            "21\n",
            "10\n",
            "11\n",
            "0\n"
          ]
        }
      ]
    },
    {
      "cell_type": "code",
      "source": [
        "x[0,0]\n",
        "y=x[:,-1:]\n",
        "y\n",
        "x.shape\n",
        "b=x.reshape(4,3)\n",
        "print(b)\n",
        "x.transpose()\n",
        "print(x)"
      ],
      "metadata": {
        "colab": {
          "base_uri": "https://localhost:8080/"
        },
        "id": "T62V46DColm6",
        "outputId": "3cc6d723-30a2-480a-ef4b-4265b3ff5baf"
      },
      "execution_count": 12,
      "outputs": [
        {
          "output_type": "stream",
          "name": "stdout",
          "text": [
            "[[10 11 12]\n",
            " [13 14 15]\n",
            " [16 17 18]\n",
            " [19 20 21]]\n",
            "[[10 11 12 13]\n",
            " [14 15 16 17]\n",
            " [18 19 20 21]]\n"
          ]
        }
      ]
    },
    {
      "cell_type": "code",
      "source": [
        "x=np.array([[10,11,12,13],[14,15,16,17]])\n",
        "print(x)\n",
        "a=0\n",
        "a=np.arange(16).reshape(4,4)\n",
        "a[1:3,:]\n",
        "print(a)\n",
        "a[1:3,2:]\n",
        "print(a)\n",
        "a=np.arange(18).reshape(3,3,2)\n",
        "a"
      ],
      "metadata": {
        "colab": {
          "base_uri": "https://localhost:8080/"
        },
        "id": "clWGoxirosIA",
        "outputId": "f1c1d4ce-5297-44ec-f1c8-e6da6ef3d6d7"
      },
      "execution_count": 13,
      "outputs": [
        {
          "output_type": "stream",
          "name": "stdout",
          "text": [
            "[[10 11 12 13]\n",
            " [14 15 16 17]]\n",
            "[[ 0  1  2  3]\n",
            " [ 4  5  6  7]\n",
            " [ 8  9 10 11]\n",
            " [12 13 14 15]]\n",
            "[[ 0  1  2  3]\n",
            " [ 4  5  6  7]\n",
            " [ 8  9 10 11]\n",
            " [12 13 14 15]]\n"
          ]
        },
        {
          "output_type": "execute_result",
          "data": {
            "text/plain": [
              "array([[[ 0,  1],\n",
              "        [ 2,  3],\n",
              "        [ 4,  5]],\n",
              "\n",
              "       [[ 6,  7],\n",
              "        [ 8,  9],\n",
              "        [10, 11]],\n",
              "\n",
              "       [[12, 13],\n",
              "        [14, 15],\n",
              "        [16, 17]]])"
            ]
          },
          "metadata": {},
          "execution_count": 13
        }
      ]
    }
  ]
}