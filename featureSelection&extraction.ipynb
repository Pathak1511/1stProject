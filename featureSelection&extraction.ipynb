{
  "nbformat": 4,
  "nbformat_minor": 0,
  "metadata": {
    "colab": {
      "provenance": [],
      "authorship_tag": "ABX9TyN8UpJjHP2KbQGQHbuCkDDr",
      "include_colab_link": true
    },
    "kernelspec": {
      "name": "python3",
      "display_name": "Python 3"
    },
    "language_info": {
      "name": "python"
    }
  },
  "cells": [
    {
      "cell_type": "markdown",
      "metadata": {
        "id": "view-in-github",
        "colab_type": "text"
      },
      "source": [
        "<a href=\"https://colab.research.google.com/github/Pathak1511/1stProject/blob/main/featureSelection%26extraction.ipynb\" target=\"_parent\"><img src=\"https://colab.research.google.com/assets/colab-badge.svg\" alt=\"Open In Colab\"/></a>"
      ]
    },
    {
      "cell_type": "code",
      "execution_count": null,
      "metadata": {
        "id": "N6c_26Qk-5Mq"
      },
      "outputs": [],
      "source": [
        "# exp 9\n",
        "from sklearn.feature_selection import SelectKBest, f_classif\n",
        "from sklearn.decomposition import PCA\n",
        "from sklearn.datasets import load_iris"
      ]
    },
    {
      "cell_type": "code",
      "source": [
        "## load the iris dataset\n",
        "iris = load_iris()"
      ],
      "metadata": {
        "id": "4P2nNwgj_Duk"
      },
      "execution_count": null,
      "outputs": []
    },
    {
      "cell_type": "code",
      "source": [
        "# perform feature selection using ANOVA F-value\n",
        "X_new = SelectKBest(f_classif, k=2).fit_transform(iris.data, iris.target)"
      ],
      "metadata": {
        "id": "5wUWXYeu_OUD"
      },
      "execution_count": null,
      "outputs": []
    },
    {
      "cell_type": "code",
      "source": [
        "# perform feature extraction using PCA\n",
        "pca = PCA(n_components=2)\n",
        "X_pca = pca.fit_transform(iris.data)"
      ],
      "metadata": {
        "id": "hLo0dCge_Quw"
      },
      "execution_count": null,
      "outputs": []
    },
    {
      "cell_type": "code",
      "source": [
        "# print the results\n",
        "print(\"Original shape: {}\".format(iris.data.shape))\n",
        "print(\"Shape after feature selection: {}\".format(X_new.shape))\n",
        "print(\"Shape after feature extraction: {}\".format(X_pca.shape))"
      ],
      "metadata": {
        "colab": {
          "base_uri": "https://localhost:8080/"
        },
        "id": "udJ2RqrI_TVb",
        "outputId": "346ea6c7-0299-40c7-c0e1-7764180fd766"
      },
      "execution_count": null,
      "outputs": [
        {
          "output_type": "stream",
          "name": "stdout",
          "text": [
            "Original shape: (150, 4)\n",
            "Shape after feature selection: (150, 2)\n",
            "Shape after feature extraction: (150, 2)\n"
          ]
        }
      ]
    },
    {
      "cell_type": "code",
      "source": [
        "# exp 10\n",
        "from sklearn.decomposition import PCA\n",
        "from sklearn.datasets import load_iris\n",
        "\n",
        "# load the iris dataset\n",
        "iris = load_iris()\n",
        "\n",
        "# create a PCA instance with 2 components\n",
        "pca = PCA(n_components=2)\n",
        "\n",
        "# fit the PCA model on the data and transform it\n",
        "X_pca = pca.fit_transform(iris.data)\n",
        "\n",
        "# print the explained variance ratio\n",
        "print(\"Explained variance ratio: {}\".format(pca.explained_variance_ratio_))\n",
        "\n",
        "# print the shape of the transformed data\n",
        "print(\"Shape of the transformed data: {}\".format(X_pca.shape))\n"
      ],
      "metadata": {
        "colab": {
          "base_uri": "https://localhost:8080/"
        },
        "id": "SD4XBtgBAevr",
        "outputId": "c5341ffe-f423-41c8-c55c-0e67359c5c21"
      },
      "execution_count": null,
      "outputs": [
        {
          "output_type": "stream",
          "name": "stdout",
          "text": [
            "Explained variance ratio: [0.92461872 0.05306648]\n",
            "Shape of the transformed data: (150, 2)\n"
          ]
        }
      ]
    }
  ]
}